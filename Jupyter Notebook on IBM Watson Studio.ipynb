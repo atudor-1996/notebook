{
    "cells": [
        {
            "cell_type": "markdown",
            "metadata": {},
            "source": "# My Jupyter Notebook on IBM Watson Studio"
        },
        {
            "cell_type": "markdown",
            "metadata": {},
            "source": "**Andrei Tudor**\n\n\nSoftware Developer in CRM&Core Banking"
        },
        {
            "cell_type": "markdown",
            "metadata": {},
            "source": "_I am interested in data science because I can unlock previously unknown insights about every subject that has enough data that can be analysed_"
        },
        {
            "cell_type": "markdown",
            "metadata": {},
            "source": "### The code below prints the factiorial of 7"
        },
        {
            "cell_type": "code",
            "execution_count": 11,
            "metadata": {},
            "outputs": [
                {
                    "name": "stdout",
                    "output_type": "stream",
                    "text": "5040\n"
                }
            ],
            "source": "def factorial(n):   \n    if n==1:\n        return 1\n    else:\n        return (n * factorial(n-1))\n    \nprint(factorial(7))\n\n    "
        },
        {
            "cell_type": "markdown",
            "metadata": {},
            "source": "#### Mock table\n\n| Row_id | First Name | Last Name|\n|--------|:----------:|---------:|\n|1       | Stan       |Smith|\n|2|`MARKDOWN GITHUB REPO`|[LINK](https://github.com/adam-p/markdown-here/wiki/Markdown-Cheatsheet)|\n|3|~~stripe~~|**_bold&italic_**|\n\n\n### Python syntax\n```python\nvar x = 1 \nprint(x)\n```\n"
        }
    ],
    "metadata": {
        "kernelspec": {
            "display_name": "Python 3.7",
            "language": "python",
            "name": "python3"
        },
        "language_info": {
            "codemirror_mode": {
                "name": "ipython",
                "version": 3
            },
            "file_extension": ".py",
            "mimetype": "text/x-python",
            "name": "python",
            "nbconvert_exporter": "python",
            "pygments_lexer": "ipython3",
            "version": "3.7.9"
        }
    },
    "nbformat": 4,
    "nbformat_minor": 1
}